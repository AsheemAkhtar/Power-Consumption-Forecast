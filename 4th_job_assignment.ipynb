{
 "cells": [
  {
   "cell_type": "markdown",
   "id": "9c41d99d",
   "metadata": {},
   "source": [
    "## Import Relevant Libraries"
   ]
  },
  {
   "cell_type": "code",
   "execution_count": 1,
   "id": "d0c316b5",
   "metadata": {},
   "outputs": [],
   "source": [
    "import pandas as pd\n",
    "import numpy as np\n",
    "import matplotlib.pyplot as plt"
   ]
  },
  {
   "cell_type": "markdown",
   "id": "75297ea0",
   "metadata": {},
   "source": [
    "## Loading Data"
   ]
  },
  {
   "cell_type": "code",
   "execution_count": 2,
   "id": "1ce3e164",
   "metadata": {},
   "outputs": [],
   "source": [
    "df = pd.read_csv(r'D:\\Job_Assignments\\assignment_4\\assignment-data.csv',index_col = 'datetime')"
   ]
  },
  {
   "cell_type": "markdown",
   "id": "0d7a4bbd",
   "metadata": {},
   "source": [
    "## See the structure of the data without printing the entire dataframe"
   ]
  },
  {
   "cell_type": "code",
   "execution_count": 3,
   "id": "198ed9f6",
   "metadata": {},
   "outputs": [
    {
     "data": {
      "text/html": [
       "<div>\n",
       "<style scoped>\n",
       "    .dataframe tbody tr th:only-of-type {\n",
       "        vertical-align: middle;\n",
       "    }\n",
       "\n",
       "    .dataframe tbody tr th {\n",
       "        vertical-align: top;\n",
       "    }\n",
       "\n",
       "    .dataframe thead th {\n",
       "        text-align: right;\n",
       "    }\n",
       "</style>\n",
       "<table border=\"1\" class=\"dataframe\">\n",
       "  <thead>\n",
       "    <tr style=\"text-align: right;\">\n",
       "      <th></th>\n",
       "      <th>Unnamed: 0</th>\n",
       "      <th>load</th>\n",
       "      <th>apparent_temperature</th>\n",
       "      <th>temperature</th>\n",
       "      <th>humidity</th>\n",
       "      <th>dew_point</th>\n",
       "      <th>wind_speed</th>\n",
       "      <th>cloud_cover</th>\n",
       "      <th>date</th>\n",
       "    </tr>\n",
       "    <tr>\n",
       "      <th>datetime</th>\n",
       "      <th></th>\n",
       "      <th></th>\n",
       "      <th></th>\n",
       "      <th></th>\n",
       "      <th></th>\n",
       "      <th></th>\n",
       "      <th></th>\n",
       "      <th></th>\n",
       "      <th></th>\n",
       "    </tr>\n",
       "  </thead>\n",
       "  <tbody>\n",
       "    <tr>\n",
       "      <th>2018-01-01 00:00:00</th>\n",
       "      <td>0</td>\n",
       "      <td>803.22270</td>\n",
       "      <td>10.45800</td>\n",
       "      <td>10.45800</td>\n",
       "      <td>0.955500</td>\n",
       "      <td>8.946000</td>\n",
       "      <td>0.0</td>\n",
       "      <td>0.0</td>\n",
       "      <td>2018-01-01</td>\n",
       "    </tr>\n",
       "    <tr>\n",
       "      <th>2018-01-01 00:15:00</th>\n",
       "      <td>1</td>\n",
       "      <td>774.89523</td>\n",
       "      <td>10.32675</td>\n",
       "      <td>10.32675</td>\n",
       "      <td>0.961625</td>\n",
       "      <td>8.911875</td>\n",
       "      <td>0.0</td>\n",
       "      <td>0.0</td>\n",
       "      <td>2018-01-01</td>\n",
       "    </tr>\n",
       "    <tr>\n",
       "      <th>2018-01-01 00:30:00</th>\n",
       "      <td>2</td>\n",
       "      <td>731.46927</td>\n",
       "      <td>10.19550</td>\n",
       "      <td>10.19550</td>\n",
       "      <td>0.967750</td>\n",
       "      <td>8.877750</td>\n",
       "      <td>0.0</td>\n",
       "      <td>0.0</td>\n",
       "      <td>2018-01-01</td>\n",
       "    </tr>\n",
       "    <tr>\n",
       "      <th>2018-01-01 00:45:00</th>\n",
       "      <td>3</td>\n",
       "      <td>713.93870</td>\n",
       "      <td>10.06425</td>\n",
       "      <td>10.06425</td>\n",
       "      <td>0.973875</td>\n",
       "      <td>8.843625</td>\n",
       "      <td>0.0</td>\n",
       "      <td>0.0</td>\n",
       "      <td>2018-01-01</td>\n",
       "    </tr>\n",
       "    <tr>\n",
       "      <th>2018-01-01 01:00:00</th>\n",
       "      <td>4</td>\n",
       "      <td>699.23007</td>\n",
       "      <td>9.93300</td>\n",
       "      <td>9.93300</td>\n",
       "      <td>0.980000</td>\n",
       "      <td>8.809500</td>\n",
       "      <td>0.0</td>\n",
       "      <td>0.0</td>\n",
       "      <td>2018-01-01</td>\n",
       "    </tr>\n",
       "  </tbody>\n",
       "</table>\n",
       "</div>"
      ],
      "text/plain": [
       "                     Unnamed: 0       load  apparent_temperature  temperature  \\\n",
       "datetime                                                                        \n",
       "2018-01-01 00:00:00           0  803.22270              10.45800     10.45800   \n",
       "2018-01-01 00:15:00           1  774.89523              10.32675     10.32675   \n",
       "2018-01-01 00:30:00           2  731.46927              10.19550     10.19550   \n",
       "2018-01-01 00:45:00           3  713.93870              10.06425     10.06425   \n",
       "2018-01-01 01:00:00           4  699.23007               9.93300      9.93300   \n",
       "\n",
       "                     humidity  dew_point  wind_speed  cloud_cover        date  \n",
       "datetime                                                                       \n",
       "2018-01-01 00:00:00  0.955500   8.946000         0.0          0.0  2018-01-01  \n",
       "2018-01-01 00:15:00  0.961625   8.911875         0.0          0.0  2018-01-01  \n",
       "2018-01-01 00:30:00  0.967750   8.877750         0.0          0.0  2018-01-01  \n",
       "2018-01-01 00:45:00  0.973875   8.843625         0.0          0.0  2018-01-01  \n",
       "2018-01-01 01:00:00  0.980000   8.809500         0.0          0.0  2018-01-01  "
      ]
     },
     "execution_count": 3,
     "metadata": {},
     "output_type": "execute_result"
    }
   ],
   "source": [
    "df.head()"
   ]
  },
  {
   "cell_type": "markdown",
   "id": "70df7e5d",
   "metadata": {},
   "source": [
    "## We wont have any column other than load when predicting for 14/Dec thats why there is no need of printing any column.\n"
   ]
  },
  {
   "cell_type": "code",
   "execution_count": 4,
   "id": "5581f995",
   "metadata": {
    "scrolled": true
   },
   "outputs": [
    {
     "data": {
      "text/html": [
       "<div>\n",
       "<style scoped>\n",
       "    .dataframe tbody tr th:only-of-type {\n",
       "        vertical-align: middle;\n",
       "    }\n",
       "\n",
       "    .dataframe tbody tr th {\n",
       "        vertical-align: top;\n",
       "    }\n",
       "\n",
       "    .dataframe thead th {\n",
       "        text-align: right;\n",
       "    }\n",
       "</style>\n",
       "<table border=\"1\" class=\"dataframe\">\n",
       "  <thead>\n",
       "    <tr style=\"text-align: right;\">\n",
       "      <th></th>\n",
       "      <th>load</th>\n",
       "    </tr>\n",
       "    <tr>\n",
       "      <th>datetime</th>\n",
       "      <th></th>\n",
       "    </tr>\n",
       "  </thead>\n",
       "  <tbody>\n",
       "    <tr>\n",
       "      <th>2018-01-01 00:00:00</th>\n",
       "      <td>803.22270</td>\n",
       "    </tr>\n",
       "    <tr>\n",
       "      <th>2018-01-01 00:15:00</th>\n",
       "      <td>774.89523</td>\n",
       "    </tr>\n",
       "    <tr>\n",
       "      <th>2018-01-01 00:30:00</th>\n",
       "      <td>731.46927</td>\n",
       "    </tr>\n",
       "    <tr>\n",
       "      <th>2018-01-01 00:45:00</th>\n",
       "      <td>713.93870</td>\n",
       "    </tr>\n",
       "    <tr>\n",
       "      <th>2018-01-01 01:00:00</th>\n",
       "      <td>699.23007</td>\n",
       "    </tr>\n",
       "  </tbody>\n",
       "</table>\n",
       "</div>"
      ],
      "text/plain": [
       "                          load\n",
       "datetime                      \n",
       "2018-01-01 00:00:00  803.22270\n",
       "2018-01-01 00:15:00  774.89523\n",
       "2018-01-01 00:30:00  731.46927\n",
       "2018-01-01 00:45:00  713.93870\n",
       "2018-01-01 01:00:00  699.23007"
      ]
     },
     "execution_count": 4,
     "metadata": {},
     "output_type": "execute_result"
    }
   ],
   "source": [
    "df1 = df[['load']]\n",
    "df1.head()"
   ]
  },
  {
   "cell_type": "markdown",
   "id": "767501d1",
   "metadata": {},
   "source": [
    "## Droping NaN Values"
   ]
  },
  {
   "cell_type": "code",
   "execution_count": 6,
   "id": "309c0974",
   "metadata": {},
   "outputs": [
    {
     "name": "stderr",
     "output_type": "stream",
     "text": [
      "<ipython-input-6-c3f84814e83b>:1: SettingWithCopyWarning: \n",
      "A value is trying to be set on a copy of a slice from a DataFrame\n",
      "\n",
      "See the caveats in the documentation: https://pandas.pydata.org/pandas-docs/stable/user_guide/indexing.html#returning-a-view-versus-a-copy\n",
      "  df1.dropna(how=\"any\", inplace=True)\n"
     ]
    }
   ],
   "source": [
    "df1.dropna(how=\"any\", inplace=True)"
   ]
  },
  {
   "cell_type": "code",
   "execution_count": 7,
   "id": "acd55ae1",
   "metadata": {},
   "outputs": [
    {
     "data": {
      "text/plain": [
       "load    0\n",
       "dtype: int64"
      ]
     },
     "execution_count": 7,
     "metadata": {},
     "output_type": "execute_result"
    }
   ],
   "source": [
    "df1.isnull().sum()# Checking if there are still NaN values remaining"
   ]
  },
  {
   "cell_type": "markdown",
   "id": "e9c65df8",
   "metadata": {},
   "source": [
    "## Creating New Columns For Making Predictions"
   ]
  },
  {
   "cell_type": "code",
   "execution_count": 8,
   "id": "ef10cd17",
   "metadata": {},
   "outputs": [
    {
     "name": "stderr",
     "output_type": "stream",
     "text": [
      "<ipython-input-8-3c8aeb7dc410>:1: SettingWithCopyWarning: \n",
      "A value is trying to be set on a copy of a slice from a DataFrame.\n",
      "Try using .loc[row_indexer,col_indexer] = value instead\n",
      "\n",
      "See the caveats in the documentation: https://pandas.pydata.org/pandas-docs/stable/user_guide/indexing.html#returning-a-view-versus-a-copy\n",
      "  df1['load_15min_before'] = df1['load'].shift(+1)\n",
      "<ipython-input-8-3c8aeb7dc410>:2: SettingWithCopyWarning: \n",
      "A value is trying to be set on a copy of a slice from a DataFrame.\n",
      "Try using .loc[row_indexer,col_indexer] = value instead\n",
      "\n",
      "See the caveats in the documentation: https://pandas.pydata.org/pandas-docs/stable/user_guide/indexing.html#returning-a-view-versus-a-copy\n",
      "  df1['load_30min_before'] = df1['load'].shift(+2)\n",
      "<ipython-input-8-3c8aeb7dc410>:3: SettingWithCopyWarning: \n",
      "A value is trying to be set on a copy of a slice from a DataFrame.\n",
      "Try using .loc[row_indexer,col_indexer] = value instead\n",
      "\n",
      "See the caveats in the documentation: https://pandas.pydata.org/pandas-docs/stable/user_guide/indexing.html#returning-a-view-versus-a-copy\n",
      "  df1['load_45min_before'] = df1['load'].shift(+3)\n"
     ]
    },
    {
     "data": {
      "text/html": [
       "<div>\n",
       "<style scoped>\n",
       "    .dataframe tbody tr th:only-of-type {\n",
       "        vertical-align: middle;\n",
       "    }\n",
       "\n",
       "    .dataframe tbody tr th {\n",
       "        vertical-align: top;\n",
       "    }\n",
       "\n",
       "    .dataframe thead th {\n",
       "        text-align: right;\n",
       "    }\n",
       "</style>\n",
       "<table border=\"1\" class=\"dataframe\">\n",
       "  <thead>\n",
       "    <tr style=\"text-align: right;\">\n",
       "      <th></th>\n",
       "      <th>load</th>\n",
       "      <th>load_15min_before</th>\n",
       "      <th>load_30min_before</th>\n",
       "      <th>load_45min_before</th>\n",
       "    </tr>\n",
       "    <tr>\n",
       "      <th>datetime</th>\n",
       "      <th></th>\n",
       "      <th></th>\n",
       "      <th></th>\n",
       "      <th></th>\n",
       "    </tr>\n",
       "  </thead>\n",
       "  <tbody>\n",
       "    <tr>\n",
       "      <th>2018-01-01 00:00:00</th>\n",
       "      <td>803.22270</td>\n",
       "      <td>NaN</td>\n",
       "      <td>NaN</td>\n",
       "      <td>NaN</td>\n",
       "    </tr>\n",
       "    <tr>\n",
       "      <th>2018-01-01 00:15:00</th>\n",
       "      <td>774.89523</td>\n",
       "      <td>803.22270</td>\n",
       "      <td>NaN</td>\n",
       "      <td>NaN</td>\n",
       "    </tr>\n",
       "    <tr>\n",
       "      <th>2018-01-01 00:30:00</th>\n",
       "      <td>731.46927</td>\n",
       "      <td>774.89523</td>\n",
       "      <td>803.22270</td>\n",
       "      <td>NaN</td>\n",
       "    </tr>\n",
       "    <tr>\n",
       "      <th>2018-01-01 00:45:00</th>\n",
       "      <td>713.93870</td>\n",
       "      <td>731.46927</td>\n",
       "      <td>774.89523</td>\n",
       "      <td>803.22270</td>\n",
       "    </tr>\n",
       "    <tr>\n",
       "      <th>2018-01-01 01:00:00</th>\n",
       "      <td>699.23007</td>\n",
       "      <td>713.93870</td>\n",
       "      <td>731.46927</td>\n",
       "      <td>774.89523</td>\n",
       "    </tr>\n",
       "  </tbody>\n",
       "</table>\n",
       "</div>"
      ],
      "text/plain": [
       "                          load  load_15min_before  load_30min_before  \\\n",
       "datetime                                                               \n",
       "2018-01-01 00:00:00  803.22270                NaN                NaN   \n",
       "2018-01-01 00:15:00  774.89523          803.22270                NaN   \n",
       "2018-01-01 00:30:00  731.46927          774.89523          803.22270   \n",
       "2018-01-01 00:45:00  713.93870          731.46927          774.89523   \n",
       "2018-01-01 01:00:00  699.23007          713.93870          731.46927   \n",
       "\n",
       "                     load_45min_before  \n",
       "datetime                                \n",
       "2018-01-01 00:00:00                NaN  \n",
       "2018-01-01 00:15:00                NaN  \n",
       "2018-01-01 00:30:00                NaN  \n",
       "2018-01-01 00:45:00          803.22270  \n",
       "2018-01-01 01:00:00          774.89523  "
      ]
     },
     "execution_count": 8,
     "metadata": {},
     "output_type": "execute_result"
    }
   ],
   "source": [
    "df1['load_15min_before'] = df1['load'].shift(+1) # To create a column with one step ahead\n",
    "df1['load_30min_before'] = df1['load'].shift(+2) # To create a column with two steps ahead\n",
    "df1['load_45min_before'] = df1['load'].shift(+3) # To create a column with three steps ahead\n",
    "df1.head()"
   ]
  },
  {
   "cell_type": "markdown",
   "id": "ea82917b",
   "metadata": {},
   "source": [
    "## Drop NaN values"
   ]
  },
  {
   "cell_type": "code",
   "execution_count": 9,
   "id": "cbed1b2c",
   "metadata": {},
   "outputs": [
    {
     "name": "stderr",
     "output_type": "stream",
     "text": [
      "<ipython-input-9-c3f84814e83b>:1: SettingWithCopyWarning: \n",
      "A value is trying to be set on a copy of a slice from a DataFrame\n",
      "\n",
      "See the caveats in the documentation: https://pandas.pydata.org/pandas-docs/stable/user_guide/indexing.html#returning-a-view-versus-a-copy\n",
      "  df1.dropna(how=\"any\", inplace=True)\n"
     ]
    }
   ],
   "source": [
    "df1.dropna(how=\"any\", inplace=True)"
   ]
  },
  {
   "cell_type": "code",
   "execution_count": 10,
   "id": "8b663363",
   "metadata": {
    "scrolled": true
   },
   "outputs": [
    {
     "data": {
      "text/html": [
       "<div>\n",
       "<style scoped>\n",
       "    .dataframe tbody tr th:only-of-type {\n",
       "        vertical-align: middle;\n",
       "    }\n",
       "\n",
       "    .dataframe tbody tr th {\n",
       "        vertical-align: top;\n",
       "    }\n",
       "\n",
       "    .dataframe thead th {\n",
       "        text-align: right;\n",
       "    }\n",
       "</style>\n",
       "<table border=\"1\" class=\"dataframe\">\n",
       "  <thead>\n",
       "    <tr style=\"text-align: right;\">\n",
       "      <th></th>\n",
       "      <th>load</th>\n",
       "      <th>load_15min_before</th>\n",
       "      <th>load_30min_before</th>\n",
       "      <th>load_45min_before</th>\n",
       "    </tr>\n",
       "    <tr>\n",
       "      <th>datetime</th>\n",
       "      <th></th>\n",
       "      <th></th>\n",
       "      <th></th>\n",
       "      <th></th>\n",
       "    </tr>\n",
       "  </thead>\n",
       "  <tbody>\n",
       "    <tr>\n",
       "      <th>2018-01-01 00:45:00</th>\n",
       "      <td>713.93870</td>\n",
       "      <td>731.46927</td>\n",
       "      <td>774.89523</td>\n",
       "      <td>803.22270</td>\n",
       "    </tr>\n",
       "    <tr>\n",
       "      <th>2018-01-01 01:00:00</th>\n",
       "      <td>699.23007</td>\n",
       "      <td>713.93870</td>\n",
       "      <td>731.46927</td>\n",
       "      <td>774.89523</td>\n",
       "    </tr>\n",
       "    <tr>\n",
       "      <th>2018-01-01 01:15:00</th>\n",
       "      <td>684.37600</td>\n",
       "      <td>699.23007</td>\n",
       "      <td>713.93870</td>\n",
       "      <td>731.46927</td>\n",
       "    </tr>\n",
       "    <tr>\n",
       "      <th>2018-01-01 01:30:00</th>\n",
       "      <td>679.37650</td>\n",
       "      <td>684.37600</td>\n",
       "      <td>699.23007</td>\n",
       "      <td>713.93870</td>\n",
       "    </tr>\n",
       "    <tr>\n",
       "      <th>2018-01-01 01:45:00</th>\n",
       "      <td>671.21570</td>\n",
       "      <td>679.37650</td>\n",
       "      <td>684.37600</td>\n",
       "      <td>699.23007</td>\n",
       "    </tr>\n",
       "  </tbody>\n",
       "</table>\n",
       "</div>"
      ],
      "text/plain": [
       "                          load  load_15min_before  load_30min_before  \\\n",
       "datetime                                                               \n",
       "2018-01-01 00:45:00  713.93870          731.46927          774.89523   \n",
       "2018-01-01 01:00:00  699.23007          713.93870          731.46927   \n",
       "2018-01-01 01:15:00  684.37600          699.23007          713.93870   \n",
       "2018-01-01 01:30:00  679.37650          684.37600          699.23007   \n",
       "2018-01-01 01:45:00  671.21570          679.37650          684.37600   \n",
       "\n",
       "                     load_45min_before  \n",
       "datetime                                \n",
       "2018-01-01 00:45:00          803.22270  \n",
       "2018-01-01 01:00:00          774.89523  \n",
       "2018-01-01 01:15:00          731.46927  \n",
       "2018-01-01 01:30:00          713.93870  \n",
       "2018-01-01 01:45:00          699.23007  "
      ]
     },
     "execution_count": 10,
     "metadata": {},
     "output_type": "execute_result"
    }
   ],
   "source": [
    "df1.head()"
   ]
  },
  {
   "cell_type": "markdown",
   "id": "8e3d61d2",
   "metadata": {},
   "source": [
    "## Importing Sklearn for Prediction on the basis of LinearRegression "
   ]
  },
  {
   "cell_type": "code",
   "execution_count": 11,
   "id": "01fcd840",
   "metadata": {},
   "outputs": [],
   "source": [
    "from sklearn.linear_model import LinearRegression\n",
    "lin_model = LinearRegression()"
   ]
  },
  {
   "cell_type": "code",
   "execution_count": 12,
   "id": "83473223",
   "metadata": {},
   "outputs": [],
   "source": [
    "# THIS IS TO CONVERT COLUMNS INTO NP ARRAY\n",
    "\n",
    "x1 = df1['load_15min_before'].values\n",
    "x2 = df1['load_30min_before'].values\n",
    "x3 = df1['load_45min_before'].values\n",
    "y = df1['load'].values"
   ]
  },
  {
   "cell_type": "markdown",
   "id": "513ba222",
   "metadata": {},
   "source": [
    "## Convert Columns into np array"
   ]
  },
  {
   "cell_type": "code",
   "execution_count": 14,
   "id": "42a617d6",
   "metadata": {},
   "outputs": [
    {
     "data": {
      "text/plain": [
       "array([[731.46927, 774.89523, 803.2227 ],\n",
       "       [713.9387 , 731.46927, 774.89523],\n",
       "       [699.23007, 713.9387 , 731.46927],\n",
       "       ...,\n",
       "       [832.24   , 858.5    , 896.88   ],\n",
       "       [804.97   , 832.24   , 858.5    ],\n",
       "       [763.56   , 804.97   , 832.24   ]])"
      ]
     },
     "execution_count": 14,
     "metadata": {},
     "output_type": "execute_result"
    }
   ],
   "source": [
    "x1 =  x1.reshape(-1,1)\n",
    "x2 = x2.reshape(-1,1)\n",
    "x3 = x3.reshape(-1,1)\n",
    "y = y.reshape(-1,1)\n",
    "fin_x = np.concatenate((x1,x2,x3),axis = 1)\n",
    "fin_x"
   ]
  },
  {
   "cell_type": "markdown",
   "id": "db55f140",
   "metadata": {},
   "source": [
    "## Training and Testing"
   ]
  },
  {
   "cell_type": "code",
   "execution_count": 15,
   "id": "3787c7b7",
   "metadata": {},
   "outputs": [],
   "source": [
    "x_train,x_test,y_train,y_test = fin_x[:-20000],fin_x[-20000:],y[:-20000],y[-20000:]"
   ]
  },
  {
   "cell_type": "code",
   "execution_count": 16,
   "id": "3a8cc998",
   "metadata": {},
   "outputs": [],
   "source": [
    "from sklearn.metrics import mean_squared_error\n",
    "from math import sqrt"
   ]
  },
  {
   "cell_type": "markdown",
   "id": "d13e763b",
   "metadata": {},
   "source": [
    "## Fitting the model"
   ]
  },
  {
   "cell_type": "code",
   "execution_count": 17,
   "id": "bfb02b4d",
   "metadata": {},
   "outputs": [
    {
     "data": {
      "text/plain": [
       "LinearRegression()"
      ]
     },
     "execution_count": 17,
     "metadata": {},
     "output_type": "execute_result"
    }
   ],
   "source": [
    "lin_model.fit(x_train,y_train)"
   ]
  },
  {
   "cell_type": "markdown",
   "id": "97793326",
   "metadata": {},
   "source": [
    "## Plotting Predicted Values and Actual Values"
   ]
  },
  {
   "cell_type": "code",
   "execution_count": 18,
   "id": "0bb5002c",
   "metadata": {},
   "outputs": [
    {
     "data": {
      "image/png": "[encoded data removed]",
      "text/plain": [
       "<Figure size 864x576 with 1 Axes>"
      ]
     },
     "metadata": {
      "needs_background": "light"
     },
     "output_type": "display_data"
    }
   ],
   "source": [
    "lin_pred = lin_model.predict(x_test)\n",
    "plt.rcParams['figure.figsize'] = (12,8)\n",
    "plt.plot(lin_pred,label = 'Linear_Regression_Predictions')\n",
    "plt.plot(y_test,label = 'Actual_Sales')\n",
    "plt.legend(loc = 'upper left')\n",
    "plt.show()"
   ]
  },
  {
   "cell_type": "markdown",
   "id": "1d1dc52f",
   "metadata": {},
   "source": [
    "## Checking for rms error to check the efficiency of model"
   ]
  },
  {
   "cell_type": "code",
   "execution_count": 19,
   "id": "ce0c4b0b",
   "metadata": {},
   "outputs": [
    {
     "data": {
      "text/plain": [
       "16.010890366563032"
      ]
     },
     "execution_count": 19,
     "metadata": {},
     "output_type": "execute_result"
    }
   ],
   "source": [
    "rmse_lin = sqrt(mean_squared_error(lin_pred,y_test))\n",
    "rmse_lin"
   ]
  },
  {
   "cell_type": "code",
   "execution_count": 20,
   "id": "63656b5d",
   "metadata": {},
   "outputs": [
    {
     "data": {
      "text/plain": [
       "array([[1440.62271694],\n",
       "       [1434.45218556],\n",
       "       [1416.05562407],\n",
       "       ...,\n",
       "       [ 809.517221  ],\n",
       "       [ 786.03860687],\n",
       "       [ 737.85587146]])"
      ]
     },
     "execution_count": 20,
     "metadata": {},
     "output_type": "execute_result"
    }
   ],
   "source": [
    "lin_pred"
   ]
  },
  {
   "cell_type": "code",
   "execution_count": 21,
   "id": "17cf8bcd",
   "metadata": {},
   "outputs": [
    {
     "data": {
      "text/plain": [
       "array([[1438.5935],\n",
       "       [1424.1909],\n",
       "       [1402.3143],\n",
       "       ...,\n",
       "       [ 804.97  ],\n",
       "       [ 763.56  ],\n",
       "       [ 734.27  ]])"
      ]
     },
     "execution_count": 21,
     "metadata": {},
     "output_type": "execute_result"
    }
   ],
   "source": [
    "y_test"
   ]
  },
  {
   "cell_type": "markdown",
   "id": "9d307ce8",
   "metadata": {},
   "source": [
    "## Looping To Get The Values Beyond 12/Dec"
   ]
  },
  {
   "cell_type": "code",
   "execution_count": 140,
   "id": "bcc2aeb6",
   "metadata": {},
   "outputs": [],
   "source": [
    "count_itr = 0\n",
    "\n",
    "while count_itr < 193: # I PUT 193 BECAUSE THERE WERE TOTAL 48 * 4 = 192 ENTRIES TO BE FILLED \n",
    "    av = y[-1]\n",
    "    x1 = np.append(x1,av) # LAST VALUE OF LOAD IS THE FIRST VALUE OF X1 AFTER THE 12/DEC/2020\n",
    "    \n",
    "    bv = y[-2]\n",
    "    x2 = np.append(x2,bv) # SECOND-LAST VALUE OF LOAD IS THE FIRST VALUE OF X2 AFTER THE 12/DEC/2020\n",
    "    \n",
    "    tv = y[-3]\n",
    "    x3 = np.append(x3,tv) # SAME REASON\n",
    "    \n",
    "    x1 =  x1.reshape(-1,1) # SKLEARN WORKS ATLEAST ON 2D\n",
    "    x2 = x2.reshape(-1,1)\n",
    "    x3 = x3.reshape(-1,1)\n",
    "    \n",
    "    # FIRST PREDICTED VALUE IS FIRST VALUE OF 'Y' AFTER GIVEN DATASET\n",
    "    fin_x = np.concatenate((x1,x2,x3),axis = 1)\n",
    "    x_train,x_test,y_train,y_test = fin_x[:-20000],fin_x[-20000:],y[:-20000],y[-20000:]\n",
    "    lin_model.fit(x_train,y_train)\n",
    "    lin_pred = lin_model.predict(x_test)\n",
    "    \n",
    "    mv = lin_pred[-1]\n",
    "    y = np.append(y,mv)\n",
    "    y = y.reshape(-1,1)\n",
    "    count_itr += 1\n",
    "    \n",
    "    \n",
    "    "
   ]
  },
  {
   "cell_type": "code",
   "execution_count": 142,
   "id": "42c410ee",
   "metadata": {},
   "outputs": [
    {
     "data": {
      "text/plain": [
       "102146"
      ]
     },
     "execution_count": 142,
     "metadata": {},
     "output_type": "execute_result"
    }
   ],
   "source": [
    "len(y)"
   ]
  },
  {
   "cell_type": "code",
   "execution_count": 143,
   "id": "ebce17dd",
   "metadata": {},
   "outputs": [
    {
     "data": {
      "text/plain": [
       "numpy.ndarray"
      ]
     },
     "execution_count": 143,
     "metadata": {},
     "output_type": "execute_result"
    }
   ],
   "source": [
    "type(y)"
   ]
  },
  {
   "cell_type": "markdown",
   "id": "526d40c0",
   "metadata": {},
   "source": [
    "## MAKING LOAD PREDICTION FOR 14/DEC/2020"
   ]
  },
  {
   "cell_type": "code",
   "execution_count": 148,
   "id": "ba1c0a1d",
   "metadata": {},
   "outputs": [],
   "source": [
    "dec14 = y[-96:].round(2) # WE PUT -96 BECAUSE LAST 96 ENTRIES ARE THE DATA OF THE ENTIRE DAY OF 14/DEC[24*4 = 96,4 is due to 15 mins]"
   ]
  },
  {
   "cell_type": "code",
   "execution_count": 170,
   "id": "43ffdd9f",
   "metadata": {},
   "outputs": [],
   "source": [
    "column_values = ['forecast']\n",
    "df_finl = pd.DataFrame(data = dec14, \n",
    "                  #index = index_values, \n",
    "                  columns = column_values)"
   ]
  },
  {
   "cell_type": "code",
   "execution_count": 171,
   "id": "c4cb025f",
   "metadata": {},
   "outputs": [
    {
     "data": {
      "text/html": [
       "<div>\n",
       "<style scoped>\n",
       "    .dataframe tbody tr th:only-of-type {\n",
       "        vertical-align: middle;\n",
       "    }\n",
       "\n",
       "    .dataframe tbody tr th {\n",
       "        vertical-align: top;\n",
       "    }\n",
       "\n",
       "    .dataframe thead th {\n",
       "        text-align: right;\n",
       "    }\n",
       "</style>\n",
       "<table border=\"1\" class=\"dataframe\">\n",
       "  <thead>\n",
       "    <tr style=\"text-align: right;\">\n",
       "      <th></th>\n",
       "      <th>forecast</th>\n",
       "    </tr>\n",
       "  </thead>\n",
       "  <tbody>\n",
       "    <tr>\n",
       "      <th>0</th>\n",
       "      <td>1421.79</td>\n",
       "    </tr>\n",
       "    <tr>\n",
       "      <th>1</th>\n",
       "      <td>1424.47</td>\n",
       "    </tr>\n",
       "    <tr>\n",
       "      <th>2</th>\n",
       "      <td>1427.09</td>\n",
       "    </tr>\n",
       "    <tr>\n",
       "      <th>3</th>\n",
       "      <td>1429.64</td>\n",
       "    </tr>\n",
       "    <tr>\n",
       "      <th>4</th>\n",
       "      <td>1432.14</td>\n",
       "    </tr>\n",
       "    <tr>\n",
       "      <th>...</th>\n",
       "      <td>...</td>\n",
       "    </tr>\n",
       "    <tr>\n",
       "      <th>91</th>\n",
       "      <td>1524.00</td>\n",
       "    </tr>\n",
       "    <tr>\n",
       "      <th>92</th>\n",
       "      <td>1524.31</td>\n",
       "    </tr>\n",
       "    <tr>\n",
       "      <th>93</th>\n",
       "      <td>1524.62</td>\n",
       "    </tr>\n",
       "    <tr>\n",
       "      <th>94</th>\n",
       "      <td>1524.93</td>\n",
       "    </tr>\n",
       "    <tr>\n",
       "      <th>95</th>\n",
       "      <td>1525.22</td>\n",
       "    </tr>\n",
       "  </tbody>\n",
       "</table>\n",
       "<p>96 rows × 1 columns</p>\n",
       "</div>"
      ],
      "text/plain": [
       "    forecast\n",
       "0    1421.79\n",
       "1    1424.47\n",
       "2    1427.09\n",
       "3    1429.64\n",
       "4    1432.14\n",
       "..       ...\n",
       "91   1524.00\n",
       "92   1524.31\n",
       "93   1524.62\n",
       "94   1524.93\n",
       "95   1525.22\n",
       "\n",
       "[96 rows x 1 columns]"
      ]
     },
     "execution_count": 171,
     "metadata": {},
     "output_type": "execute_result"
    }
   ],
   "source": [
    "df_finl"
   ]
  },
  {
   "cell_type": "code",
   "execution_count": 172,
   "id": "4f79779e",
   "metadata": {},
   "outputs": [],
   "source": [
    "rng = pd.date_range('2020-12-14', periods=96, freq='15T')\n",
    "df_tin = pd.DataFrame({ 'Date': rng})"
   ]
  },
  {
   "cell_type": "code",
   "execution_count": 173,
   "id": "c93f4014",
   "metadata": {},
   "outputs": [
    {
     "data": {
      "text/html": [
       "<div>\n",
       "<style scoped>\n",
       "    .dataframe tbody tr th:only-of-type {\n",
       "        vertical-align: middle;\n",
       "    }\n",
       "\n",
       "    .dataframe tbody tr th {\n",
       "        vertical-align: top;\n",
       "    }\n",
       "\n",
       "    .dataframe thead th {\n",
       "        text-align: right;\n",
       "    }\n",
       "</style>\n",
       "<table border=\"1\" class=\"dataframe\">\n",
       "  <thead>\n",
       "    <tr style=\"text-align: right;\">\n",
       "      <th></th>\n",
       "      <th>Date</th>\n",
       "    </tr>\n",
       "  </thead>\n",
       "  <tbody>\n",
       "    <tr>\n",
       "      <th>0</th>\n",
       "      <td>2020-12-14 00:00:00</td>\n",
       "    </tr>\n",
       "    <tr>\n",
       "      <th>1</th>\n",
       "      <td>2020-12-14 00:15:00</td>\n",
       "    </tr>\n",
       "    <tr>\n",
       "      <th>2</th>\n",
       "      <td>2020-12-14 00:30:00</td>\n",
       "    </tr>\n",
       "    <tr>\n",
       "      <th>3</th>\n",
       "      <td>2020-12-14 00:45:00</td>\n",
       "    </tr>\n",
       "    <tr>\n",
       "      <th>4</th>\n",
       "      <td>2020-12-14 01:00:00</td>\n",
       "    </tr>\n",
       "  </tbody>\n",
       "</table>\n",
       "</div>"
      ],
      "text/plain": [
       "                 Date\n",
       "0 2020-12-14 00:00:00\n",
       "1 2020-12-14 00:15:00\n",
       "2 2020-12-14 00:30:00\n",
       "3 2020-12-14 00:45:00\n",
       "4 2020-12-14 01:00:00"
      ]
     },
     "execution_count": 173,
     "metadata": {},
     "output_type": "execute_result"
    }
   ],
   "source": [
    "df_tin.head()"
   ]
  },
  {
   "cell_type": "code",
   "execution_count": 174,
   "id": "87e27cb3",
   "metadata": {},
   "outputs": [
    {
     "data": {
      "text/plain": [
       "96"
      ]
     },
     "execution_count": 174,
     "metadata": {},
     "output_type": "execute_result"
    }
   ],
   "source": [
    "len(df_finl)"
   ]
  },
  {
   "cell_type": "code",
   "execution_count": 175,
   "id": "fd9090e1",
   "metadata": {},
   "outputs": [
    {
     "data": {
      "text/plain": [
       "96"
      ]
     },
     "execution_count": 175,
     "metadata": {},
     "output_type": "execute_result"
    }
   ],
   "source": [
    "len(df_tin)"
   ]
  },
  {
   "cell_type": "code",
   "execution_count": 176,
   "id": "61c45e79",
   "metadata": {},
   "outputs": [],
   "source": [
    "df_finl['datetime'] = df_tin['Date']"
   ]
  },
  {
   "cell_type": "code",
   "execution_count": 179,
   "id": "a9b4df33",
   "metadata": {},
   "outputs": [
    {
     "data": {
      "text/html": [
       "<div>\n",
       "<style scoped>\n",
       "    .dataframe tbody tr th:only-of-type {\n",
       "        vertical-align: middle;\n",
       "    }\n",
       "\n",
       "    .dataframe tbody tr th {\n",
       "        vertical-align: top;\n",
       "    }\n",
       "\n",
       "    .dataframe thead th {\n",
       "        text-align: right;\n",
       "    }\n",
       "</style>\n",
       "<table border=\"1\" class=\"dataframe\">\n",
       "  <thead>\n",
       "    <tr style=\"text-align: right;\">\n",
       "      <th></th>\n",
       "      <th>datetime</th>\n",
       "      <th>forecast</th>\n",
       "    </tr>\n",
       "  </thead>\n",
       "  <tbody>\n",
       "    <tr>\n",
       "      <th>0</th>\n",
       "      <td>2020-12-14 00:00:00</td>\n",
       "      <td>1421.79</td>\n",
       "    </tr>\n",
       "    <tr>\n",
       "      <th>1</th>\n",
       "      <td>2020-12-14 00:15:00</td>\n",
       "      <td>1424.47</td>\n",
       "    </tr>\n",
       "    <tr>\n",
       "      <th>2</th>\n",
       "      <td>2020-12-14 00:30:00</td>\n",
       "      <td>1427.09</td>\n",
       "    </tr>\n",
       "    <tr>\n",
       "      <th>3</th>\n",
       "      <td>2020-12-14 00:45:00</td>\n",
       "      <td>1429.64</td>\n",
       "    </tr>\n",
       "    <tr>\n",
       "      <th>4</th>\n",
       "      <td>2020-12-14 01:00:00</td>\n",
       "      <td>1432.14</td>\n",
       "    </tr>\n",
       "  </tbody>\n",
       "</table>\n",
       "</div>"
      ],
      "text/plain": [
       "             datetime  forecast\n",
       "0 2020-12-14 00:00:00   1421.79\n",
       "1 2020-12-14 00:15:00   1424.47\n",
       "2 2020-12-14 00:30:00   1427.09\n",
       "3 2020-12-14 00:45:00   1429.64\n",
       "4 2020-12-14 01:00:00   1432.14"
      ]
     },
     "execution_count": 179,
     "metadata": {},
     "output_type": "execute_result"
    }
   ],
   "source": [
    "df_finl = df_finl[['datetime','forecast']]\n",
    "df_finl.head()"
   ]
  },
  {
   "cell_type": "code",
   "execution_count": 181,
   "id": "06525dcc",
   "metadata": {},
   "outputs": [
    {
     "data": {
      "text/html": [
       "<div>\n",
       "<style scoped>\n",
       "    .dataframe tbody tr th:only-of-type {\n",
       "        vertical-align: middle;\n",
       "    }\n",
       "\n",
       "    .dataframe tbody tr th {\n",
       "        vertical-align: top;\n",
       "    }\n",
       "\n",
       "    .dataframe thead th {\n",
       "        text-align: right;\n",
       "    }\n",
       "</style>\n",
       "<table border=\"1\" class=\"dataframe\">\n",
       "  <thead>\n",
       "    <tr style=\"text-align: right;\">\n",
       "      <th></th>\n",
       "      <th>forecast</th>\n",
       "    </tr>\n",
       "    <tr>\n",
       "      <th>datetime</th>\n",
       "      <th></th>\n",
       "    </tr>\n",
       "  </thead>\n",
       "  <tbody>\n",
       "    <tr>\n",
       "      <th>2020-12-14 00:00:00</th>\n",
       "      <td>1421.79</td>\n",
       "    </tr>\n",
       "    <tr>\n",
       "      <th>2020-12-14 00:15:00</th>\n",
       "      <td>1424.47</td>\n",
       "    </tr>\n",
       "    <tr>\n",
       "      <th>2020-12-14 00:30:00</th>\n",
       "      <td>1427.09</td>\n",
       "    </tr>\n",
       "    <tr>\n",
       "      <th>2020-12-14 00:45:00</th>\n",
       "      <td>1429.64</td>\n",
       "    </tr>\n",
       "    <tr>\n",
       "      <th>2020-12-14 01:00:00</th>\n",
       "      <td>1432.14</td>\n",
       "    </tr>\n",
       "    <tr>\n",
       "      <th>...</th>\n",
       "      <td>...</td>\n",
       "    </tr>\n",
       "    <tr>\n",
       "      <th>2020-12-14 22:45:00</th>\n",
       "      <td>1524.00</td>\n",
       "    </tr>\n",
       "    <tr>\n",
       "      <th>2020-12-14 23:00:00</th>\n",
       "      <td>1524.31</td>\n",
       "    </tr>\n",
       "    <tr>\n",
       "      <th>2020-12-14 23:15:00</th>\n",
       "      <td>1524.62</td>\n",
       "    </tr>\n",
       "    <tr>\n",
       "      <th>2020-12-14 23:30:00</th>\n",
       "      <td>1524.93</td>\n",
       "    </tr>\n",
       "    <tr>\n",
       "      <th>2020-12-14 23:45:00</th>\n",
       "      <td>1525.22</td>\n",
       "    </tr>\n",
       "  </tbody>\n",
       "</table>\n",
       "<p>96 rows × 1 columns</p>\n",
       "</div>"
      ],
      "text/plain": [
       "                     forecast\n",
       "datetime                     \n",
       "2020-12-14 00:00:00   1421.79\n",
       "2020-12-14 00:15:00   1424.47\n",
       "2020-12-14 00:30:00   1427.09\n",
       "2020-12-14 00:45:00   1429.64\n",
       "2020-12-14 01:00:00   1432.14\n",
       "...                       ...\n",
       "2020-12-14 22:45:00   1524.00\n",
       "2020-12-14 23:00:00   1524.31\n",
       "2020-12-14 23:15:00   1524.62\n",
       "2020-12-14 23:30:00   1524.93\n",
       "2020-12-14 23:45:00   1525.22\n",
       "\n",
       "[96 rows x 1 columns]"
      ]
     },
     "execution_count": 181,
     "metadata": {},
     "output_type": "execute_result"
    }
   ],
   "source": [
    "df_finl.set_index('datetime')"
   ]
  },
  {
   "cell_type": "markdown",
   "id": "6f4b8c22",
   "metadata": {},
   "source": [
    "## CREATING A CSV FILE FOR PREDICTED LOAD ON 14/DEC/2020"
   ]
  },
  {
   "cell_type": "code",
   "execution_count": 184,
   "id": "08c6649e",
   "metadata": {},
   "outputs": [],
   "source": [
    "df_finl.to_csv(r'D:\\Job_Assignments\\assignment_4\\predicted_load.csv',index = False)"
   ]
  },
  {
   "cell_type": "code",
   "execution_count": 187,
   "id": "8525a8cc",
   "metadata": {},
   "outputs": [],
   "source": [
    "df_wnan = df[['load']] # COPYING DESIRED COLUMN FROM DATASET TO WORK ON NAN VALUES"
   ]
  },
  {
   "cell_type": "code",
   "execution_count": 188,
   "id": "3a058076",
   "metadata": {},
   "outputs": [
    {
     "data": {
      "text/html": [
       "<div>\n",
       "<style scoped>\n",
       "    .dataframe tbody tr th:only-of-type {\n",
       "        vertical-align: middle;\n",
       "    }\n",
       "\n",
       "    .dataframe tbody tr th {\n",
       "        vertical-align: top;\n",
       "    }\n",
       "\n",
       "    .dataframe thead th {\n",
       "        text-align: right;\n",
       "    }\n",
       "</style>\n",
       "<table border=\"1\" class=\"dataframe\">\n",
       "  <thead>\n",
       "    <tr style=\"text-align: right;\">\n",
       "      <th></th>\n",
       "      <th>load</th>\n",
       "    </tr>\n",
       "    <tr>\n",
       "      <th>datetime</th>\n",
       "      <th></th>\n",
       "    </tr>\n",
       "  </thead>\n",
       "  <tbody>\n",
       "    <tr>\n",
       "      <th>2018-01-01 00:00:00</th>\n",
       "      <td>803.22270</td>\n",
       "    </tr>\n",
       "    <tr>\n",
       "      <th>2018-01-01 00:15:00</th>\n",
       "      <td>774.89523</td>\n",
       "    </tr>\n",
       "    <tr>\n",
       "      <th>2018-01-01 00:30:00</th>\n",
       "      <td>731.46927</td>\n",
       "    </tr>\n",
       "    <tr>\n",
       "      <th>2018-01-01 00:45:00</th>\n",
       "      <td>713.93870</td>\n",
       "    </tr>\n",
       "    <tr>\n",
       "      <th>2018-01-01 01:00:00</th>\n",
       "      <td>699.23007</td>\n",
       "    </tr>\n",
       "  </tbody>\n",
       "</table>\n",
       "</div>"
      ],
      "text/plain": [
       "                          load\n",
       "datetime                      \n",
       "2018-01-01 00:00:00  803.22270\n",
       "2018-01-01 00:15:00  774.89523\n",
       "2018-01-01 00:30:00  731.46927\n",
       "2018-01-01 00:45:00  713.93870\n",
       "2018-01-01 01:00:00  699.23007"
      ]
     },
     "execution_count": 188,
     "metadata": {},
     "output_type": "execute_result"
    }
   ],
   "source": [
    "df_wnan.head()"
   ]
  },
  {
   "cell_type": "code",
   "execution_count": 196,
   "id": "59bd8f01",
   "metadata": {},
   "outputs": [
    {
     "data": {
      "text/plain": [
       "103392"
      ]
     },
     "execution_count": 196,
     "metadata": {},
     "output_type": "execute_result"
    }
   ],
   "source": [
    "len(df_wnan)"
   ]
  },
  {
   "cell_type": "markdown",
   "id": "76ab5c2d",
   "metadata": {},
   "source": [
    "## FILLING NaN WITH MEAN OF PREVIOUS AND NEXT VALUES"
   ]
  },
  {
   "cell_type": "code",
   "execution_count": 194,
   "id": "bcfdf5ef",
   "metadata": {},
   "outputs": [],
   "source": [
    "filled_dataset = df_wnan.fillna(df_wnan.rolling(100000,min_periods=1).mean())"
   ]
  },
  {
   "cell_type": "code",
   "execution_count": 195,
   "id": "532511ea",
   "metadata": {},
   "outputs": [
    {
     "data": {
      "text/plain": [
       "load    0\n",
       "dtype: int64"
      ]
     },
     "execution_count": 195,
     "metadata": {},
     "output_type": "execute_result"
    }
   ],
   "source": [
    "filled_dataset.isnull().sum()"
   ]
  },
  {
   "cell_type": "code",
   "execution_count": 197,
   "id": "1a38680d",
   "metadata": {},
   "outputs": [
    {
     "data": {
      "text/plain": [
       "103392"
      ]
     },
     "execution_count": 197,
     "metadata": {},
     "output_type": "execute_result"
    }
   ],
   "source": [
    "len(filled_dataset)"
   ]
  },
  {
   "cell_type": "code",
   "execution_count": 226,
   "id": "7426c2c1",
   "metadata": {},
   "outputs": [],
   "source": [
    "nw_df = df[df.isnull().any(axis=1)]"
   ]
  },
  {
   "cell_type": "code",
   "execution_count": 227,
   "id": "9571ac9d",
   "metadata": {},
   "outputs": [
    {
     "data": {
      "text/plain": [
       "1440"
      ]
     },
     "execution_count": 227,
     "metadata": {},
     "output_type": "execute_result"
    }
   ],
   "source": [
    "len(nw_df)"
   ]
  },
  {
   "cell_type": "code",
   "execution_count": 228,
   "id": "dbd00909",
   "metadata": {},
   "outputs": [
    {
     "data": {
      "text/html": [
       "<div>\n",
       "<style scoped>\n",
       "    .dataframe tbody tr th:only-of-type {\n",
       "        vertical-align: middle;\n",
       "    }\n",
       "\n",
       "    .dataframe tbody tr th {\n",
       "        vertical-align: top;\n",
       "    }\n",
       "\n",
       "    .dataframe thead th {\n",
       "        text-align: right;\n",
       "    }\n",
       "</style>\n",
       "<table border=\"1\" class=\"dataframe\">\n",
       "  <thead>\n",
       "    <tr style=\"text-align: right;\">\n",
       "      <th></th>\n",
       "      <th>Unnamed: 0</th>\n",
       "      <th>load</th>\n",
       "      <th>apparent_temperature</th>\n",
       "      <th>temperature</th>\n",
       "      <th>humidity</th>\n",
       "      <th>dew_point</th>\n",
       "      <th>wind_speed</th>\n",
       "      <th>cloud_cover</th>\n",
       "      <th>date</th>\n",
       "    </tr>\n",
       "    <tr>\n",
       "      <th>datetime</th>\n",
       "      <th></th>\n",
       "      <th></th>\n",
       "      <th></th>\n",
       "      <th></th>\n",
       "      <th></th>\n",
       "      <th></th>\n",
       "      <th></th>\n",
       "      <th></th>\n",
       "      <th></th>\n",
       "    </tr>\n",
       "  </thead>\n",
       "  <tbody>\n",
       "    <tr>\n",
       "      <th>2019-05-16 00:00:00</th>\n",
       "      <td>48000</td>\n",
       "      <td>NaN</td>\n",
       "      <td>31.458000</td>\n",
       "      <td>31.458000</td>\n",
       "      <td>0.441000</td>\n",
       "      <td>16.56900</td>\n",
       "      <td>0.1365</td>\n",
       "      <td>0.462</td>\n",
       "      <td>2019-05-16</td>\n",
       "    </tr>\n",
       "    <tr>\n",
       "      <th>2019-05-16 00:15:00</th>\n",
       "      <td>48001</td>\n",
       "      <td>NaN</td>\n",
       "      <td>31.371375</td>\n",
       "      <td>31.371375</td>\n",
       "      <td>0.443625</td>\n",
       "      <td>16.55325</td>\n",
       "      <td>0.1680</td>\n",
       "      <td>0.462</td>\n",
       "      <td>2019-05-16</td>\n",
       "    </tr>\n",
       "    <tr>\n",
       "      <th>2019-05-16 00:30:00</th>\n",
       "      <td>48002</td>\n",
       "      <td>NaN</td>\n",
       "      <td>31.284750</td>\n",
       "      <td>31.284750</td>\n",
       "      <td>0.446250</td>\n",
       "      <td>16.53750</td>\n",
       "      <td>0.1995</td>\n",
       "      <td>0.462</td>\n",
       "      <td>2019-05-16</td>\n",
       "    </tr>\n",
       "    <tr>\n",
       "      <th>2019-05-16 00:45:00</th>\n",
       "      <td>48003</td>\n",
       "      <td>NaN</td>\n",
       "      <td>31.198125</td>\n",
       "      <td>31.198125</td>\n",
       "      <td>0.448875</td>\n",
       "      <td>16.52175</td>\n",
       "      <td>0.2310</td>\n",
       "      <td>0.462</td>\n",
       "      <td>2019-05-16</td>\n",
       "    </tr>\n",
       "    <tr>\n",
       "      <th>2019-05-16 01:00:00</th>\n",
       "      <td>48004</td>\n",
       "      <td>NaN</td>\n",
       "      <td>31.111500</td>\n",
       "      <td>31.111500</td>\n",
       "      <td>0.451500</td>\n",
       "      <td>16.50600</td>\n",
       "      <td>0.2625</td>\n",
       "      <td>0.462</td>\n",
       "      <td>2019-05-16</td>\n",
       "    </tr>\n",
       "  </tbody>\n",
       "</table>\n",
       "</div>"
      ],
      "text/plain": [
       "                     Unnamed: 0  load  apparent_temperature  temperature  \\\n",
       "datetime                                                                   \n",
       "2019-05-16 00:00:00       48000   NaN             31.458000    31.458000   \n",
       "2019-05-16 00:15:00       48001   NaN             31.371375    31.371375   \n",
       "2019-05-16 00:30:00       48002   NaN             31.284750    31.284750   \n",
       "2019-05-16 00:45:00       48003   NaN             31.198125    31.198125   \n",
       "2019-05-16 01:00:00       48004   NaN             31.111500    31.111500   \n",
       "\n",
       "                     humidity  dew_point  wind_speed  cloud_cover        date  \n",
       "datetime                                                                       \n",
       "2019-05-16 00:00:00  0.441000   16.56900      0.1365        0.462  2019-05-16  \n",
       "2019-05-16 00:15:00  0.443625   16.55325      0.1680        0.462  2019-05-16  \n",
       "2019-05-16 00:30:00  0.446250   16.53750      0.1995        0.462  2019-05-16  \n",
       "2019-05-16 00:45:00  0.448875   16.52175      0.2310        0.462  2019-05-16  \n",
       "2019-05-16 01:00:00  0.451500   16.50600      0.2625        0.462  2019-05-16  "
      ]
     },
     "execution_count": 228,
     "metadata": {},
     "output_type": "execute_result"
    }
   ],
   "source": [
    "nw_df.head()"
   ]
  },
  {
   "cell_type": "code",
   "execution_count": 229,
   "id": "9414144c",
   "metadata": {},
   "outputs": [],
   "source": [
    "nw_df = nw_df[['load']] "
   ]
  },
  {
   "cell_type": "code",
   "execution_count": 230,
   "id": "e6124808",
   "metadata": {},
   "outputs": [
    {
     "data": {
      "text/html": [
       "<div>\n",
       "<style scoped>\n",
       "    .dataframe tbody tr th:only-of-type {\n",
       "        vertical-align: middle;\n",
       "    }\n",
       "\n",
       "    .dataframe tbody tr th {\n",
       "        vertical-align: top;\n",
       "    }\n",
       "\n",
       "    .dataframe thead th {\n",
       "        text-align: right;\n",
       "    }\n",
       "</style>\n",
       "<table border=\"1\" class=\"dataframe\">\n",
       "  <thead>\n",
       "    <tr style=\"text-align: right;\">\n",
       "      <th></th>\n",
       "      <th>load</th>\n",
       "    </tr>\n",
       "    <tr>\n",
       "      <th>datetime</th>\n",
       "      <th></th>\n",
       "    </tr>\n",
       "  </thead>\n",
       "  <tbody>\n",
       "    <tr>\n",
       "      <th>2019-05-16 00:00:00</th>\n",
       "      <td>NaN</td>\n",
       "    </tr>\n",
       "    <tr>\n",
       "      <th>2019-05-16 00:15:00</th>\n",
       "      <td>NaN</td>\n",
       "    </tr>\n",
       "    <tr>\n",
       "      <th>2019-05-16 00:30:00</th>\n",
       "      <td>NaN</td>\n",
       "    </tr>\n",
       "    <tr>\n",
       "      <th>2019-05-16 00:45:00</th>\n",
       "      <td>NaN</td>\n",
       "    </tr>\n",
       "    <tr>\n",
       "      <th>2019-05-16 01:00:00</th>\n",
       "      <td>NaN</td>\n",
       "    </tr>\n",
       "  </tbody>\n",
       "</table>\n",
       "</div>"
      ],
      "text/plain": [
       "                     load\n",
       "datetime                 \n",
       "2019-05-16 00:00:00   NaN\n",
       "2019-05-16 00:15:00   NaN\n",
       "2019-05-16 00:30:00   NaN\n",
       "2019-05-16 00:45:00   NaN\n",
       "2019-05-16 01:00:00   NaN"
      ]
     },
     "execution_count": 230,
     "metadata": {},
     "output_type": "execute_result"
    }
   ],
   "source": [
    "nw_df.head()"
   ]
  },
  {
   "cell_type": "markdown",
   "id": "46655c23",
   "metadata": {},
   "source": [
    "## GETTING ONLY THOSE VALUES WHICH CAME AT THE PLACES OF NaN"
   ]
  },
  {
   "cell_type": "code",
   "execution_count": 232,
   "id": "97b92e88",
   "metadata": {},
   "outputs": [],
   "source": [
    "nw_df['load_val'] = filled_dataset['load']"
   ]
  },
  {
   "cell_type": "code",
   "execution_count": 233,
   "id": "bee36538",
   "metadata": {},
   "outputs": [
    {
     "data": {
      "text/html": [
       "<div>\n",
       "<style scoped>\n",
       "    .dataframe tbody tr th:only-of-type {\n",
       "        vertical-align: middle;\n",
       "    }\n",
       "\n",
       "    .dataframe tbody tr th {\n",
       "        vertical-align: top;\n",
       "    }\n",
       "\n",
       "    .dataframe thead th {\n",
       "        text-align: right;\n",
       "    }\n",
       "</style>\n",
       "<table border=\"1\" class=\"dataframe\">\n",
       "  <thead>\n",
       "    <tr style=\"text-align: right;\">\n",
       "      <th></th>\n",
       "      <th>load</th>\n",
       "      <th>load_val</th>\n",
       "    </tr>\n",
       "    <tr>\n",
       "      <th>datetime</th>\n",
       "      <th></th>\n",
       "      <th></th>\n",
       "    </tr>\n",
       "  </thead>\n",
       "  <tbody>\n",
       "    <tr>\n",
       "      <th>2019-05-16 00:00:00</th>\n",
       "      <td>1527.82129</td>\n",
       "      <td>1527.82129</td>\n",
       "    </tr>\n",
       "    <tr>\n",
       "      <th>2019-05-16 00:15:00</th>\n",
       "      <td>1527.82129</td>\n",
       "      <td>1527.82129</td>\n",
       "    </tr>\n",
       "    <tr>\n",
       "      <th>2019-05-16 00:30:00</th>\n",
       "      <td>1527.82129</td>\n",
       "      <td>1527.82129</td>\n",
       "    </tr>\n",
       "    <tr>\n",
       "      <th>2019-05-16 00:45:00</th>\n",
       "      <td>1527.82129</td>\n",
       "      <td>1527.82129</td>\n",
       "    </tr>\n",
       "    <tr>\n",
       "      <th>2019-05-16 01:00:00</th>\n",
       "      <td>1527.82129</td>\n",
       "      <td>1527.82129</td>\n",
       "    </tr>\n",
       "  </tbody>\n",
       "</table>\n",
       "</div>"
      ],
      "text/plain": [
       "                           load    load_val\n",
       "datetime                                   \n",
       "2019-05-16 00:00:00  1527.82129  1527.82129\n",
       "2019-05-16 00:15:00  1527.82129  1527.82129\n",
       "2019-05-16 00:30:00  1527.82129  1527.82129\n",
       "2019-05-16 00:45:00  1527.82129  1527.82129\n",
       "2019-05-16 01:00:00  1527.82129  1527.82129"
      ]
     },
     "execution_count": 233,
     "metadata": {},
     "output_type": "execute_result"
    }
   ],
   "source": [
    "nw_df.head()"
   ]
  },
  {
   "cell_type": "code",
   "execution_count": 235,
   "id": "e7e7e92c",
   "metadata": {},
   "outputs": [
    {
     "data": {
      "text/html": [
       "<div>\n",
       "<style scoped>\n",
       "    .dataframe tbody tr th:only-of-type {\n",
       "        vertical-align: middle;\n",
       "    }\n",
       "\n",
       "    .dataframe tbody tr th {\n",
       "        vertical-align: top;\n",
       "    }\n",
       "\n",
       "    .dataframe thead th {\n",
       "        text-align: right;\n",
       "    }\n",
       "</style>\n",
       "<table border=\"1\" class=\"dataframe\">\n",
       "  <thead>\n",
       "    <tr style=\"text-align: right;\">\n",
       "      <th></th>\n",
       "      <th>load</th>\n",
       "      <th>load_val</th>\n",
       "    </tr>\n",
       "  </thead>\n",
       "  <tbody>\n",
       "    <tr>\n",
       "      <th>count</th>\n",
       "      <td>1440.000000</td>\n",
       "      <td>1440.000000</td>\n",
       "    </tr>\n",
       "    <tr>\n",
       "      <th>mean</th>\n",
       "      <td>1582.217756</td>\n",
       "      <td>1582.217756</td>\n",
       "    </tr>\n",
       "    <tr>\n",
       "      <th>std</th>\n",
       "      <td>37.187018</td>\n",
       "      <td>37.187018</td>\n",
       "    </tr>\n",
       "    <tr>\n",
       "      <th>min</th>\n",
       "      <td>1527.821290</td>\n",
       "      <td>1527.821290</td>\n",
       "    </tr>\n",
       "    <tr>\n",
       "      <th>25%</th>\n",
       "      <td>1527.821290</td>\n",
       "      <td>1527.821290</td>\n",
       "    </tr>\n",
       "    <tr>\n",
       "      <th>50%</th>\n",
       "      <td>1586.989739</td>\n",
       "      <td>1586.989739</td>\n",
       "    </tr>\n",
       "    <tr>\n",
       "      <th>75%</th>\n",
       "      <td>1605.924913</td>\n",
       "      <td>1605.924913</td>\n",
       "    </tr>\n",
       "    <tr>\n",
       "      <th>max</th>\n",
       "      <td>1652.191900</td>\n",
       "      <td>1652.191900</td>\n",
       "    </tr>\n",
       "  </tbody>\n",
       "</table>\n",
       "</div>"
      ],
      "text/plain": [
       "              load     load_val\n",
       "count  1440.000000  1440.000000\n",
       "mean   1582.217756  1582.217756\n",
       "std      37.187018    37.187018\n",
       "min    1527.821290  1527.821290\n",
       "25%    1527.821290  1527.821290\n",
       "50%    1586.989739  1586.989739\n",
       "75%    1605.924913  1605.924913\n",
       "max    1652.191900  1652.191900"
      ]
     },
     "execution_count": 235,
     "metadata": {},
     "output_type": "execute_result"
    }
   ],
   "source": [
    "nw_df.describe()"
   ]
  },
  {
   "cell_type": "markdown",
   "id": "b6743dc6",
   "metadata": {},
   "source": [
    "## CREATING A CSV FILE FOR LOAD VALUES AT THE PLACE OF NaN"
   ]
  },
  {
   "cell_type": "code",
   "execution_count": 258,
   "id": "a31e176a",
   "metadata": {},
   "outputs": [],
   "source": [
    "nw_df.to_csv(r'D:\\Job_Assignments\\assignment_4\\Load_At_NaN.csv')"
   ]
  },
  {
   "cell_type": "code",
   "execution_count": null,
   "id": "e3f4e15c",
   "metadata": {},
   "outputs": [],
   "source": []
  }
 ],
 "metadata": {
  "kernelspec": {
   "display_name": "Python 3",
   "language": "python",
   "name": "python3"
  },
  "language_info": {
   "codemirror_mode": {
    "name": "ipython",
    "version": 3
   },
   "file_extension": ".py",
   "mimetype": "text/x-python",
   "name": "python",
   "nbconvert_exporter": "python",
   "pygments_lexer": "ipython3",
   "version": "3.8.8"
  }
 },
 "nbformat": 4,
 "nbformat_minor": 5
}
